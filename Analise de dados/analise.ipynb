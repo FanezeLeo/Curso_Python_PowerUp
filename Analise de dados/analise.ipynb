{
 "cells": [
  {
   "cell_type": "code",
   "execution_count": null,
   "metadata": {},
   "outputs": [],
   "source": [
    "#O codigo \"as pd\" é uma abreviação universal do pandas\n",
    "import pandas as pd\n",
    "\n",
    "tabela = pd.read_csv(\"cancelamentos_sample.csv\")\n",
    "#Remover uma coluna do banco de dados\n",
    "tabela = tabela.drop(columns=\"CustomerID\")\n",
    "#visualizar o banco de dados\n",
    "display(tabela)"
   ]
  },
  {
   "cell_type": "code",
   "execution_count": null,
   "metadata": {},
   "outputs": [],
   "source": [
    "#Retira todos os dados que possuem um valor vazio\n",
    "tabela = tabela.dropna()\n",
    "#Pega informções basicas da tabela\n",
    "display(tabela.info())"
   ]
  },
  {
   "cell_type": "code",
   "execution_count": null,
   "metadata": {},
   "outputs": [],
   "source": [
    "#para pegar uma coluna em especifico so colocar o nome da tabela e o nome da coluna\n",
    "#o value_counts() conta todos os valores que tem de cada dado\n",
    "display(tabela[\"cancelou\"].value_counts())\n",
    "#pega a porcentagem de cada dado\n",
    "#map para formatação\n",
    "display(tabela[\"cancelou\"].value_counts(normalize=True).map(\"{:.2%}\".format))\n"
   ]
  },
  {
   "cell_type": "code",
   "execution_count": null,
   "metadata": {},
   "outputs": [],
   "source": [
    "display(tabela[\"duracao_contrato\"].value_counts())\n",
    "display(tabela[\"duracao_contrato\"].value_counts(normalize=True).map(\"{:.2%}\".format))\n"
   ]
  },
  {
   "cell_type": "code",
   "execution_count": null,
   "metadata": {},
   "outputs": [],
   "source": [
    "#faz uma media dividida pela duração do contrato pra cada coluna do meu banco de dados. numeric_only é para pegar somente os numericos\n",
    "agrupamento = tabela.groupby(\"duracao_contrato\").mean(numeric_only = True)\n",
    "display(agrupamento)"
   ]
  },
  {
   "cell_type": "code",
   "execution_count": null,
   "metadata": {},
   "outputs": [],
   "source": [
    "#tem como fazer um if para excluir todos os dados de determinado tipo em uma coluna\n",
    "tabela = tabela[tabela[\"duracao_contrato\"] != \"Monthly\"]\n",
    "display(tabela[\"cancelou\"].value_counts(normalize=True).map(\"{:.2%}\".format))\n"
   ]
  },
  {
   "cell_type": "code",
   "execution_count": null,
   "metadata": {},
   "outputs": [],
   "source": [
    "#pacote para criação de graficos\n",
    "import plotly.express as px\n",
    "for coluna in tabela.columns:\n",
    "    #cria a tabela paramentros(banco, eixo x, color cor)\n",
    "    grafico = px.histogram(tabela, x=coluna, color=\"cancelou\")\n",
    "    #Mostra o grafico\n",
    "    grafico.show()\n"
   ]
  },
  {
   "cell_type": "code",
   "execution_count": 10,
   "metadata": {},
   "outputs": [
    {
     "data": {
      "text/plain": [
       "cancelou\n",
       "0.0    81.65%\n",
       "1.0    18.35%\n",
       "Name: proportion, dtype: object"
      ]
     },
     "metadata": {},
     "output_type": "display_data"
    }
   ],
   "source": [
    "#remove da tabela os dados como se fosse um if\n",
    "#Ele passa a tabela com um um parametro para filtrar somente os dados que se encaixam naquele parametro\n",
    "tabela = tabela[tabela[\"ligacoes_callcenter\"] < 5]\n",
    "tabela = tabela[tabela[\"dias_atraso\"] <= 20]\n",
    "display(tabela[\"cancelou\"].value_counts(normalize=True).map(\"{:.2%}\".format))"
   ]
  }
 ],
 "metadata": {
  "kernelspec": {
   "display_name": "Python 3",
   "language": "python",
   "name": "python3"
  },
  "language_info": {
   "codemirror_mode": {
    "name": "ipython",
    "version": 3
   },
   "file_extension": ".py",
   "mimetype": "text/x-python",
   "name": "python",
   "nbconvert_exporter": "python",
   "pygments_lexer": "ipython3",
   "version": "3.11.5"
  },
  "orig_nbformat": 4
 },
 "nbformat": 4,
 "nbformat_minor": 2
}
